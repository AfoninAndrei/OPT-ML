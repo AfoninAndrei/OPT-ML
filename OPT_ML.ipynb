{
  "nbformat": 4,
  "nbformat_minor": 0,
  "metadata": {
    "accelerator": "GPU",
    "colab": {
      "name": "OPT_ML.ipynb",
      "provenance": [],
      "collapsed_sections": [],
      "toc_visible": true,
      "machine_shape": "hm"
    },
    "kernelspec": {
      "display_name": "Python 3",
      "name": "python3"
    }
  },
  "cells": [
    {
      "cell_type": "markdown",
      "metadata": {
        "id": "b0117p6anAfu"
      },
      "source": [
        "# Includes"
      ]
    },
    {
      "cell_type": "code",
      "metadata": {
        "id": "S7hoPiykkxNI"
      },
      "source": [
        "import glob\n",
        "import numpy as np\n",
        "import torch\n",
        "import torch.nn as nn\n",
        "import torch.nn.functional as F\n",
        "import torch.autograd as autograd\n",
        "import torch.optim as optim\n",
        "from torch.autograd import Variable\n",
        "import matplotlib.pyplot as plt\n",
        "import random\n",
        "from tqdm import tqdm_notebook as tqdm\n",
        "import multiprocessing\n",
        "import os.path\n",
        "import csv\n",
        "import copy\n",
        "import joblib\n",
        "from torchvision import datasets\n",
        "import torchvision\n",
        "import seaborn as sns; sns.set(color_codes=True)\n",
        "sns.set_style(\"white\")\n",
        "from pdb import set_trace as bp\n",
        "from torch.optim.lr_scheduler import StepLR"
      ],
      "execution_count": 1,
      "outputs": []
    },
    {
      "cell_type": "code",
      "metadata": {
        "id": "aXJn7T_vl3nv"
      },
      "source": [
        "USE_CUDA = torch.cuda.is_available()\n",
        "\n",
        "def w(v):\n",
        "    if USE_CUDA:\n",
        "        return v.cuda()\n",
        "    return v"
      ],
      "execution_count": 2,
      "outputs": []
    },
    {
      "cell_type": "code",
      "metadata": {
        "id": "8BHrPoBBmYrv"
      },
      "source": [
        "from meta_module import *"
      ],
      "execution_count": 3,
      "outputs": []
    },
    {
      "cell_type": "code",
      "metadata": {
        "id": "SxUmA1F8mtQS"
      },
      "source": [
        "!mkdir -p _cache\n",
        "cache = joblib.Memory(location='_cache', verbose=0)"
      ],
      "execution_count": 4,
      "outputs": []
    },
    {
      "cell_type": "markdown",
      "metadata": {
        "id": "gnM1B_9usXQs"
      },
      "source": [
        "# Hamiltonian"
      ]
    },
    {
      "cell_type": "code",
      "metadata": {
        "id": "RusgpHNMsiTm"
      },
      "source": [
        "! pip install git+https://github.com/rtqichen/torchdiffeq\n",
        "from torchdiffeq import odeint_adjoint as odeint\n",
        "torch.manual_seed(0)\n",
        "torch.cuda.manual_seed(0)\n",
        "torch.backends.cudnn.deterministic = True\n",
        "torch.backends.cudnn.benchmark = False\n",
        "from torch.nn.parameter import Parameter\n",
        "from torch.nn.modules.module import Module"
      ],
      "execution_count": null,
      "outputs": []
    },
    {
      "cell_type": "code",
      "metadata": {
        "id": "hI1gYuSPsWXI"
      },
      "source": [
        "import torch\n",
        "import torch.nn as nn\n",
        "import torchdiffeq\n",
        "\n",
        "class ODEBlock(nn.Module):\n",
        "    def __init__(self, odefunc:nn.Module, method:str='dopri5', rtol:float=1e-3, atol:float=1e-4, adjoint:bool=True):\n",
        "        \"\"\" Standard ODEBlock class. Can handle all types of ODE functions\n",
        "            :method:str = {'euler', 'rk4', 'dopri5', 'adams', 'scipy_solver'}\n",
        "        \"\"\"\n",
        "        super().__init__()\n",
        "        self.odefunc = odefunc\n",
        "        self.method = method\n",
        "        self.adjoint_flag = adjoint\n",
        "        self.atol, self.rtol = atol, rtol\n",
        "\n",
        "    def forward(self, x:torch.Tensor, T:int=1):\n",
        "        self.integration_time = torch.tensor([0, T]).float()\n",
        "        self.integration_time = self.integration_time.type_as(x)\n",
        "\n",
        "        if self.adjoint_flag:\n",
        "            out = torchdiffeq.odeint_adjoint(self.odefunc, x, self.integration_time,\n",
        "                                             rtol=self.rtol, atol=self.atol, method=self.method)\n",
        "        else:\n",
        "            out = torchdiffeq.odeint(self.odefunc, x, self.integration_time,\n",
        "                                     rtol=self.rtol, atol=self.atol, method=self.method)\n",
        "        # print(out.shape)\n",
        "        return out[-1]\n",
        "    \n",
        "    def forward_batched(self, x:torch.Tensor, nn:int, indices:list, timestamps:set):\n",
        "        \"\"\" Modified forward for ODE batches with different integration times \"\"\"\n",
        "        timestamps = torch.Tensor(list(timestamps))\n",
        "        if self.adjoint_flag:\n",
        "            out = torchdiffeq.odeint_adjoint(self.odefunc, x, timestamps,\n",
        "                                             rtol=self.rtol, atol=self.atol, method=self.method)\n",
        "        else:\n",
        "            out = torchdiffeq.odeint(self.odefunc, x, timestamps,\n",
        "                                     rtol=self.rtol, atol=self.atol, method=self.method)\n",
        "\n",
        "        out = self._build_batch(out, nn, indices).reshape(x.shape)\n",
        "        return out\n",
        "    \n",
        "    def _build_batch(self, odeout, nn, indices):\n",
        "        b_out = []\n",
        "        for i in range(len(indices)):\n",
        "            b_out.append(odeout[indices[i],i*nn:(i+1)*nn])\n",
        "        return torch.cat(b_out).to(odeout.device)\n",
        "              \n",
        "        \n",
        "    def trajectory(self, x:torch.Tensor, T:int, num_points:int):\n",
        "        self.integration_time = torch.linspace(0, T, num_points)\n",
        "        self.integration_time = self.integration_time.type_as(x)\n",
        "        out = torchdiffeq.odeint(self.odefunc, x, self.integration_time,\n",
        "                                 rtol=self.rtol, atol=self.atol, method=self.method)\n",
        "        return out"
      ],
      "execution_count": 60,
      "outputs": []
    },
    {
      "cell_type": "code",
      "metadata": {
        "id": "Bf88pdoyosnX"
      },
      "source": [
        "device = torch.device(\"cuda:0\" if torch.cuda.is_available() else \"cpu\")\n",
        "class Hamiltonian(nn.Module):\n",
        "    def __init__(self, input_dim:int):\n",
        "        super().__init__()\n",
        "        self.input_dim = input_dim\n",
        "        #self.g = nn.Parameter(torch.rand((int(input_dim)), dtype=torch.float32, requires_grad=True))\n",
        "        #self.v = nn.Parameter(torch.rand((1), dtype=torch.float32, requires_grad=True))\n",
        "        self.g = nn.Sequential(nn.Linear(int(input_dim), int(input_dim)), nn.ReLU(), nn.Linear(int(input_dim), 1))\n",
        "        self.v = nn.Sequential(nn.Linear(int(input_dim), int(input_dim)), nn.ReLU(), nn.Linear(int(input_dim), 1))\n",
        "        self.D = nn.Linear(2*input_dim, 2*input_dim)\n",
        "        self.L = nn.Linear(int(input_dim), int(input_dim))\n",
        "        self.L.weight.data.fill_(0.0)\n",
        "        self.L.weight.data += torch.eye((int(self.input_dim)), dtype=torch.float32, requires_grad=True)\n",
        "        self.nfe = 0\n",
        "        self.device = torch.device('cuda:0' if torch.cuda.is_available() else 'cpu')\n",
        "\n",
        "    def forward(self, t, x):\n",
        "        with torch.enable_grad():\n",
        "            one = torch.tensor(1, dtype=torch.float32, device=self.device, requires_grad=True)\n",
        "            x = one * x\n",
        "            self.nfe += 1\n",
        "            q, dev_q = torch.chunk(x, 2, dim=-1)\n",
        "            #print(q)\n",
        "            g = self.g(q)\n",
        "            H = self.v(q) + torch.sum(torch.pow(torch.matmul(dev_q, self.L.weight.t()), 2)) / 2.0 \n",
        "            H = H.reshape(-1,)\n",
        "            M = torch.matmul(self.L.weight, self.L.weight.t()) + 1e-12*torch.eye((int(self.input_dim)), dtype=torch.float32, device=self.device)\n",
        "            \n",
        "            dH_q = torch.autograd.grad(H, q, grad_outputs=torch.ones_like(H), create_graph=True)[0]\n",
        "            D_q, D_p = torch.chunk(self.D(torch.cat((dH_q, dev_q), dim=-1)), 2, dim=-1)\n",
        "            out = torch.cat((dev_q-D_q, torch.matmul(-dH_q-D_p+g, M.inverse())), dim=-1).view_as(x)\n",
        "        return out"
      ],
      "execution_count": 78,
      "outputs": []
    },
    {
      "cell_type": "code",
      "metadata": {
        "id": "6_cMa1uOR1l5"
      },
      "source": [
        "# class Hamiltonian(nn.Module):\n",
        "#     def __init__(self, input_dim:int):\n",
        "#         \"\"\"Standard GCDN ODE function class. To be passed to an ODEBlock\"\"\"\n",
        "#         super().__init__()\n",
        "#         self.lin1 = nn.Linear(2*input_dim, 20)\n",
        "#         self.act = nn.Tanh()\n",
        "#         self.lin2 = nn.Linear(20, 2)\n",
        "#         self.nfe = 0\n",
        "\n",
        "#     def forward(self, t, x):\n",
        "#         self.nfe += 1\n",
        "#         x = self.lin1(x)\n",
        "#         x = self.act(x)\n",
        "#         x = self.lin2(x)\n",
        "#         return x"
      ],
      "execution_count": 73,
      "outputs": []
    },
    {
      "cell_type": "markdown",
      "metadata": {
        "id": "kqKZY8Fjr8uv"
      },
      "source": [
        "# Funcs"
      ]
    },
    {
      "cell_type": "code",
      "metadata": {
        "id": "UWlVJJizmcaY"
      },
      "source": [
        "def detach_var(v):\n",
        "    var = w(Variable(v.data, requires_grad=True))\n",
        "    var.retain_grad()\n",
        "    return var\n",
        "\n",
        "import functools\n",
        "\n",
        "def rsetattr(obj, attr, val):\n",
        "    pre, _, post = attr.rpartition('.')\n",
        "    return setattr(rgetattr(obj, pre) if pre else obj, post, val)\n",
        "\n",
        "# using wonder's beautiful simplification: https://stackoverflow.com/questions/31174295/getattr-and-setattr-on-nested-objects/31174427?noredirect=1#comment86638618_31174427\n",
        "\n",
        "def rgetattr(obj, attr, *args):\n",
        "    def _getattr(obj, attr):\n",
        "        return getattr(obj, attr, *args)\n",
        "    return functools.reduce(_getattr, [obj] + attr.split('.'))\n",
        "\n",
        "def do_fit(opt_net, meta_opt, target_cls, target_to_opt, unroll, optim_it, n_epochs, out_mul, should_train=True):\n",
        "    if should_train:\n",
        "        opt_net.train()\n",
        "    else:\n",
        "        opt_net.eval()\n",
        "        unroll = 1\n",
        "    \n",
        "    target = target_cls(training=should_train)\n",
        "    optimizee = w(target_to_opt())\n",
        "    n_params = 0\n",
        "    for name, p in optimizee.all_named_parameters():\n",
        "        n_params += int(np.prod(p.size()))\n",
        "    hidden_states = [w(Variable(torch.zeros(n_params, opt_net.hidden_sz))) for _ in range(2)]\n",
        "    cell_states = [w(Variable(torch.zeros(n_params, opt_net.hidden_sz))) for _ in range(2)]\n",
        "    all_losses_ever = []\n",
        "    if should_train:\n",
        "        meta_opt.zero_grad()\n",
        "    all_losses = None\n",
        "    for iteration in range(1, optim_it + 1):\n",
        "        loss = optimizee(target)\n",
        "                    \n",
        "        if all_losses is None:\n",
        "            all_losses = loss\n",
        "        else:\n",
        "            all_losses += loss\n",
        "        \n",
        "        all_losses_ever.append(loss.data.cpu().numpy())\n",
        "        loss.backward(retain_graph=should_train)\n",
        "\n",
        "        offset = 0\n",
        "        result_params = {}\n",
        "        hidden_states2 = [w(Variable(torch.zeros(n_params, opt_net.hidden_sz))) for _ in range(2)]\n",
        "        cell_states2 = [w(Variable(torch.zeros(n_params, opt_net.hidden_sz))) for _ in range(2)]\n",
        "        for name, p in optimizee.all_named_parameters():\n",
        "            cur_sz = int(np.prod(p.size()))\n",
        "            # We do this so the gradients are disconnected from the graph but we still get\n",
        "            # gradients from the rest\n",
        "            gradients = detach_var(p.grad.view(cur_sz, 1))\n",
        "            updates, new_hidden, new_cell = opt_net(\n",
        "                gradients,\n",
        "                [h[offset:offset+cur_sz] for h in hidden_states],\n",
        "                [c[offset:offset+cur_sz] for c in cell_states]\n",
        "            )\n",
        "            for i in range(len(new_hidden)):\n",
        "                hidden_states2[i][offset:offset+cur_sz] = new_hidden[i]\n",
        "                cell_states2[i][offset:offset+cur_sz] = new_cell[i]\n",
        "            result_params[name] = p + updates.view(*p.size()) * out_mul\n",
        "            result_params[name].retain_grad()\n",
        "            \n",
        "            offset += cur_sz\n",
        "            \n",
        "        if iteration % unroll == 0:\n",
        "            if should_train:\n",
        "                meta_opt.zero_grad()\n",
        "                all_losses.backward()\n",
        "                meta_opt.step()\n",
        "                \n",
        "            all_losses = None\n",
        "\n",
        "            optimizee = w(target_to_opt())\n",
        "            optimizee.load_state_dict(result_params)\n",
        "            optimizee.zero_grad()\n",
        "            hidden_states = [detach_var(v) for v in hidden_states2]\n",
        "            cell_states = [detach_var(v) for v in cell_states2]\n",
        "            \n",
        "        else:\n",
        "            for name, p in optimizee.all_named_parameters():\n",
        "                rsetattr(optimizee, name, result_params[name])\n",
        "            assert len(list(optimizee.all_named_parameters()))\n",
        "            hidden_states = hidden_states2\n",
        "            cell_states = cell_states2\n",
        "            \n",
        "    return all_losses_ever\n",
        "\n",
        "\n",
        "@cache.cache\n",
        "def fit_optimizer(target_cls, target_to_opt, preproc=False, unroll=20, optim_it=100, n_epochs=20, n_tests=100, lr=0.001, out_mul=1.0):\n",
        "    opt_net = w(Optimizer(preproc=preproc))\n",
        "    #opt_net = w(Optimizer_HNN(preproc=preproc))\n",
        "    meta_opt = optim.Adam(opt_net.parameters(), lr=lr, weight_decay=3e-6)\n",
        "    scheduler = StepLR(meta_opt, step_size=1, gamma=0.9)\n",
        "    best_net = None\n",
        "    best_loss = 100000000000000000\n",
        "    \n",
        "    for _ in tqdm(range(n_epochs), 'epochs'):\n",
        "        for _ in tqdm(range(20), 'iterations'):\n",
        "            do_fit(opt_net, meta_opt, target_cls, target_to_opt, unroll, optim_it, n_epochs, out_mul, should_train=True)\n",
        "        \n",
        "        loss = (np.mean([\n",
        "            np.mean(do_fit(opt_net, meta_opt, target_cls, target_to_opt, unroll, optim_it, n_epochs, out_mul, should_train=False))\n",
        "            for _ in tqdm(range(n_tests), 'tests')\n",
        "        ]))\n",
        "        print(loss)\n",
        "        if loss < best_loss:\n",
        "            print(best_loss, loss)\n",
        "            best_loss = loss\n",
        "            best_net = copy.deepcopy(opt_net.state_dict())\n",
        "        scheduler.step() \n",
        "    return best_loss, best_net"
      ],
      "execution_count": 26,
      "outputs": []
    },
    {
      "cell_type": "code",
      "metadata": {
        "id": "HxYGFcsVzl1T"
      },
      "source": [
        "def do_fit_HNN(opt_net, meta_opt, target_cls, target_to_opt, unroll, optim_it, n_epochs, out_mul, should_train=True):\n",
        "    if should_train:\n",
        "        opt_net.train()\n",
        "    else:\n",
        "        opt_net.eval()\n",
        "        unroll = 1\n",
        "    \n",
        "    target = target_cls(training=should_train)\n",
        "    optimizee = w(target_to_opt())\n",
        "    n_params = 0\n",
        "    for name, p in optimizee.all_named_parameters():\n",
        "        n_params += int(np.prod(p.size()))\n",
        "    #hidden_states = [w(Variable(torch.zeros(n_params, opt_net.hidden_sz))) for _ in range(2)]\n",
        "    derivative_input = w(Variable(torch.zeros(n_params, 1)))\n",
        "    all_losses_ever = []\n",
        "    if should_train:\n",
        "        meta_opt.zero_grad()\n",
        "    all_losses = None\n",
        "    for iteration in range(1, optim_it + 1):\n",
        "        loss = optimizee(target)\n",
        "        # print(iteration)      \n",
        "        if all_losses is None:\n",
        "            all_losses = loss\n",
        "        else:\n",
        "            all_losses += loss\n",
        "        \n",
        "        all_losses_ever.append(loss.data.cpu().numpy())\n",
        "        loss.backward(retain_graph=should_train)\n",
        "\n",
        "        offset = 0\n",
        "        result_params = {}\n",
        "        derivative_input2 = w(Variable(torch.zeros(n_params, 1)))\n",
        "        for name, p in optimizee.all_named_parameters():\n",
        "            cur_sz = int(np.prod(p.size()))\n",
        "            # We do this so the gradients are disconnected from the graph but we still get\n",
        "            # gradients from the rest\n",
        "            gradients = detach_var(p.grad.view(cur_sz, 1))\n",
        "            # print(p.shape, gradients.shape)\n",
        "            inp = torch.cat((gradients, derivative_input[offset:offset+cur_sz]), dim=-1)\n",
        "            updates = opt_net(inp)\n",
        "            #derivative_input2[offset:offset+cur_sz, 0] = updates.view(*p.size()) * out_mul\n",
        "            derivative_input2[offset:offset+cur_sz] = updates.view(*gradients.size()) * out_mul\n",
        "            result_params[name] = p + updates.view(*p.size()) * out_mul\n",
        "            result_params[name].retain_grad()\n",
        "            offset += cur_sz\n",
        "            \n",
        "        if iteration % unroll == 0:\n",
        "            if should_train:\n",
        "                meta_opt.zero_grad()\n",
        "                all_losses.backward()\n",
        "                meta_opt.step()\n",
        "                \n",
        "            all_losses = None\n",
        "\n",
        "            optimizee = w(target_to_opt())\n",
        "            optimizee.load_state_dict(result_params)\n",
        "            optimizee.zero_grad()\n",
        "            derivative_input = detach_var(derivative_input2)\n",
        "        else:\n",
        "            for name, p in optimizee.all_named_parameters():\n",
        "                rsetattr(optimizee, name, result_params[name])\n",
        "            assert len(list(optimizee.all_named_parameters()))\n",
        "            derivative_input = derivative_input2\n",
        "\n",
        "    return all_losses_ever\n",
        "\n",
        "@cache.cache\n",
        "def fit_optimizer_HNN(target_cls, target_to_opt, preproc=False, unroll=1, optim_it=1, n_epochs=20, n_tests=100, lr=0.001, out_mul=1.0):\n",
        "    opt_net = w(Optimizer_HNN(preproc=preproc))\n",
        "    meta_opt = optim.Adam(opt_net.parameters(), lr=lr, weight_decay=3e-6)\n",
        "    scheduler = StepLR(meta_opt, step_size=1, gamma=0.9)\n",
        "    best_net = None\n",
        "    best_loss = 100000000000000000\n",
        "    \n",
        "    for _ in tqdm(range(n_epochs), 'epochs'):\n",
        "        for _ in tqdm(range(20), 'iterations'):\n",
        "            do_fit_HNN(opt_net, meta_opt, target_cls, target_to_opt, unroll, optim_it, n_epochs, out_mul, should_train=True)\n",
        "        \n",
        "        loss = (np.mean([\n",
        "            np.mean(do_fit_HNN(opt_net, meta_opt, target_cls, target_to_opt, unroll, optim_it, n_epochs, out_mul, should_train=False))\n",
        "            for _ in tqdm(range(n_tests), 'tests')\n",
        "        ]))\n",
        "        print(loss)\n",
        "        if loss < best_loss:\n",
        "            print(best_loss, loss)\n",
        "            best_loss = loss\n",
        "            best_net = copy.deepcopy(opt_net.state_dict())\n",
        "        scheduler.step() \n",
        "    return best_loss, best_net"
      ],
      "execution_count": 27,
      "outputs": []
    },
    {
      "cell_type": "code",
      "metadata": {
        "id": "w1LDsT4Wnma3"
      },
      "source": [
        "@cache.cache\n",
        "def fit_normal(target_cls, target_to_opt, opt_class, n_tests=100, n_epochs=100, **kwargs):\n",
        "    results = []\n",
        "    for i in tqdm(range(n_tests), 'tests'):\n",
        "        target = target_cls(training=False)\n",
        "        optimizee = w(target_to_opt())\n",
        "        optimizer = opt_class(optimizee.parameters(), **kwargs)\n",
        "        total_loss = []\n",
        "        for _ in range(n_epochs):\n",
        "            loss = optimizee(target)\n",
        "            \n",
        "            total_loss.append(loss.data.cpu().numpy())\n",
        "            \n",
        "            optimizer.zero_grad()\n",
        "            loss.backward()\n",
        "            optimizer.step()\n",
        "        results.append(total_loss)\n",
        "    return results\n",
        "\n",
        "def find_best_lr_normal(target_cls, target_to_opt, opt_class, **extra_kwargs):\n",
        "    best_loss = 1000000000000000.0\n",
        "    best_lr = 0.0\n",
        "    for lr in tqdm([1.0, 0.3, 0.1, 0.03, 0.01, 0.003, 0.001, 0.0003, 0.0001, 0.00003, 0.00001], 'Learning rates'):\n",
        "        try:\n",
        "            loss = best_loss + 1.0\n",
        "            loss = np.mean([np.sum(s) for s in fit_normal(target_cls, target_to_opt, opt_class, lr=lr, **extra_kwargs)])\n",
        "        except RuntimeError:\n",
        "            pass\n",
        "        if loss < best_loss:\n",
        "            best_loss = loss\n",
        "            best_lr = lr\n",
        "    return best_loss, best_lrModuleDict"
      ],
      "execution_count": 10,
      "outputs": []
    },
    {
      "cell_type": "code",
      "metadata": {
        "id": "fJRfaW0ZreSf"
      },
      "source": [
        "class Optimizer(nn.Module):\n",
        "    def __init__(self, preproc=False, hidden_sz=20, preproc_factor=10.0):\n",
        "        super().__init__()\n",
        "        self.hidden_sz = hidden_sz\n",
        "        if preproc:\n",
        "            self.recurs = nn.LSTMCell(2, hidden_sz)\n",
        "        else:\n",
        "            self.recurs = nn.LSTMCell(1, hidden_sz)\n",
        "        self.recurs2 = nn.LSTMCell(hidden_sz, hidden_sz)\n",
        "        self.output = nn.Linear(hidden_sz, 1)\n",
        "        self.preproc = preproc\n",
        "        self.preproc_factor = preproc_factor\n",
        "        self.preproc_threshold = np.exp(-preproc_factor)\n",
        "        \n",
        "    def forward(self, inp, hidden, cell):\n",
        "        if self.preproc:\n",
        "            # Implement preproc described in Appendix A\n",
        "            \n",
        "            # Note: we do all this work on tensors, which means\n",
        "            # the gradients won't propagate through inp. This\n",
        "            # should be ok because the algorithm involves\n",
        "            # making sure that inp is already detached.\n",
        "            inp = inp.data\n",
        "            inp2 = w(torch.zeros(inp.size()[0], 2))\n",
        "            keep_grads = (torch.abs(inp) >= self.preproc_threshold).squeeze()\n",
        "            inp2[:, 0][keep_grads] = (torch.log(torch.abs(inp[keep_grads]) + 1e-8) / self.preproc_factor).squeeze()\n",
        "            inp2[:, 1][keep_grads] = torch.sign(inp[keep_grads]).squeeze()\n",
        "            \n",
        "            inp2[:, 0][~keep_grads] = -1\n",
        "            inp2[:, 1][~keep_grads] = (float(np.exp(self.preproc_factor)) * inp[~keep_grads]).squeeze()\n",
        "            inp = w(Variable(inp2))\n",
        "        hidden0, cell0 = self.recurs(inp, (hidden[0], cell[0]))\n",
        "        hidden1, cell1 = self.recurs2(hidden0, (hidden[1], cell[1]))\n",
        "        return self.output(hidden1), (hidden0, hidden1), (cell0, cell1)\n",
        "\n",
        "class Optimizer_HNN(nn.Module):\n",
        "    def __init__(self, preproc=False, preproc_factor=10.0):\n",
        "        super().__init__()\n",
        "        if preproc:\n",
        "            gdefunc = Hamiltonian(2)\n",
        "            self.output = nn.Linear(4, 1)\n",
        "        else:\n",
        "            gdefunc = Hamiltonian(1)\n",
        "            self.output = nn.Linear(2, 1)\n",
        "\n",
        "        #self.gde = ODEBlock(odefunc=gdefunc)\n",
        "        self.gde = gdefunc\n",
        "        self.preproc = preproc\n",
        "        self.preproc_factor = preproc_factor\n",
        "        self.preproc_threshold = np.exp(-preproc_factor)\n",
        "        \n",
        "    def forward(self, inp):\n",
        "        if self.preproc:\n",
        "            # Implement preproc described in Appendix A\n",
        "            \n",
        "            # Note: we do all this work on tensors, which means\n",
        "            # the gradients won't propagate through inp. This\n",
        "            # should be ok because the algorithm involves\n",
        "            # making sure that inp is already detached.\n",
        "            inp = inp.data\n",
        "            inp2 = w(torch.zeros(inp.size()[0], 2))\n",
        "            keep_grads = (torch.abs(inp) >= self.preproc_threshold).squeeze()\n",
        "            inp2[:, 0][keep_grads] = (torch.log(torch.abs(inp[keep_grads]) + 1e-8) / self.preproc_factor).squeeze()\n",
        "            inp2[:, 1][keep_grads] = torch.sign(inp[keep_grads]).squeeze()\n",
        "            \n",
        "            inp2[:, 0][~keep_grads] = -1\n",
        "            inp2[:, 1][~keep_grads] = (float(np.exp(self.preproc_factor)) * inp[~keep_grads]).squeeze()\n",
        "            inp = w(Variable(inp2))\n",
        "        #h = self.gde.trajectory(inp, T=1, num_points=20)[10]\n",
        "        h = self.gde(t=1, x=inp)\n",
        "        return self.output(h)"
      ],
      "execution_count": 80,
      "outputs": []
    },
    {
      "cell_type": "markdown",
      "metadata": {
        "id": "9xvIY7BMnFGr"
      },
      "source": [
        "# Quadratic loss\n"
      ]
    },
    {
      "cell_type": "code",
      "metadata": {
        "id": "q19RVZqTmv1O"
      },
      "source": [
        "class QuadraticLoss:\n",
        "    def __init__(self, **kwargs):\n",
        "        self.W = w(Variable(torch.randn(10, 10)))\n",
        "        self.y = w(Variable(torch.randn(10)))\n",
        "        \n",
        "    def get_loss(self, theta):\n",
        "        return torch.sum((self.W.matmul(theta) - self.y)**2)\n",
        "    \n",
        "class QuadOptimizee(MetaModule):\n",
        "    def __init__(self, theta=None):\n",
        "        super().__init__()\n",
        "        self.register_buffer('theta', to_var(torch.zeros(10).cuda(), requires_grad=True))\n",
        "        \n",
        "    def forward(self, target):\n",
        "        return target.get_loss(self.theta)\n",
        "    \n",
        "    def all_named_parameters(self):\n",
        "        return [('theta', self.theta)]"
      ],
      "execution_count": 12,
      "outputs": []
    },
    {
      "cell_type": "code",
      "metadata": {
        "id": "Jem4kRgZ6GMo"
      },
      "source": [
        "loss_LSTM, quad_optimizer_LSTM = fit_optimizer(QuadraticLoss, QuadOptimizee, unroll=20, optim_it=100, lr=0.001, n_tests=10, n_epochs=100)"
      ],
      "execution_count": null,
      "outputs": []
    },
    {
      "cell_type": "code",
      "metadata": {
        "id": "5a3MHHx6fUR9"
      },
      "source": [
        "loss_HNN, quad_optimizer_HNN = fit_optimizer_HNN(QuadraticLoss, QuadOptimizee, unroll=20, optim_it=100, lr=0.001, n_tests=10, n_epochs=100, out_mul=0.001)"
      ],
      "execution_count": null,
      "outputs": []
    },
    {
      "cell_type": "code",
      "metadata": {
        "colab": {
          "base_uri": "https://localhost:8080/"
        },
        "id": "aMzVVKGsx_fC",
        "outputId": "1bd41e60-6b5a-4b72-993a-f48c11b1a0de"
      },
      "source": [
        "print('Best loss of LSTM = ', loss_LSTM)\n",
        "print('Best loss of HNN = ', loss_HNN)"
      ],
      "execution_count": 88,
      "outputs": [
        {
          "output_type": "stream",
          "text": [
            "Best loss of LSTM =  0.43030626\n",
            "Best loss of HNN =  0.77624464\n"
          ],
          "name": "stdout"
        }
      ]
    },
    {
      "cell_type": "code",
      "metadata": {
        "id": "V7kD4_aawzkM"
      },
      "source": [
        "fit_data = np.zeros((100, 100, 2))\n",
        "np.random.seed(0)\n",
        "\n",
        "opt = w(Optimizer())\n",
        "opt.load_state_dict(quad_optimizer_LSTM)\n",
        "fit_data[:, :, 0] = np.array([do_fit(opt, None, QuadraticLoss, QuadOptimizee, 1, 100, 100, out_mul=1.0, should_train=False) for _ in range(100)])\n",
        "opt = w(Optimizer_HNN())\n",
        "opt.load_state_dict(quad_optimizer_HNN)\n",
        "fit_data[:, :, 1] = np.array([do_fit_HNN(opt, None, QuadraticLoss, QuadOptimizee, 1, 100, 100, out_mul=0.001, should_train=False) for _ in range(100)])"
      ],
      "execution_count": 89,
      "outputs": []
    },
    {
      "cell_type": "code",
      "metadata": {
        "id": "wXMsTtjjnIrO",
        "colab": {
          "base_uri": "https://localhost:8080/",
          "height": 301
        },
        "outputId": "c1e94000-0cd7-4b36-8886-40237363dad4"
      },
      "source": [
        "plt.plot(np.mean(fit_data[:,:,0], axis=0), color='b', label='LSTM')\n",
        "plt.plot(np.mean(fit_data[:,:,1], axis=0), color='r', label='HNN')\n",
        "plt.xlabel('steps')\n",
        "plt.ylabel('loss')\n",
        "plt.title('Quadratic functions')\n",
        "plt.legend()\n",
        "plt.grid()\n",
        "plt.show()"
      ],
      "execution_count": 90,
      "outputs": [
        {
          "output_type": "display_data",
          "data": {
            "image/png": "[encoded data removed]",
            "text/plain": [
              "<Figure size 432x288 with 1 Axes>"
            ]
          },
          "metadata": {
            "tags": [],
            "needs_background": "light"
          }
        }
      ]
    },
    {
      "cell_type": "markdown",
      "metadata": {
        "id": "UNBnq9BKjqeB"
      },
      "source": [
        "# MNIST"
      ]
    },
    {
      "cell_type": "code",
      "metadata": {
        "id": "dkGdgsLLjsg0"
      },
      "source": [
        "class MNISTLoss:\n",
        "    def __init__(self, training=True):\n",
        "        dataset = datasets.MNIST(\n",
        "            '/home/chenwy/mnist', train=True, download=True,\n",
        "            transform=torchvision.transforms.ToTensor()\n",
        "        )\n",
        "        indices = list(range(len(dataset)))\n",
        "        np.random.RandomState(10).shuffle(indices)\n",
        "        if training:\n",
        "            indices = indices[:len(indices) // 2]\n",
        "        else:\n",
        "            indices = indices[len(indices) // 2:]\n",
        "\n",
        "        self.loader = torch.utils.data.DataLoader(\n",
        "            dataset, batch_size=128,\n",
        "            sampler=torch.utils.data.sampler.SubsetRandomSampler(indices))\n",
        "\n",
        "        self.batches = []\n",
        "        self.cur_batch = 0\n",
        "        \n",
        "    def sample(self):\n",
        "        if self.cur_batch >= len(self.batches):\n",
        "            self.batches = []\n",
        "            self.cur_batch = 0\n",
        "            for b in self.loader:\n",
        "                self.batches.append(b)\n",
        "        batch = self.batches[self.cur_batch]\n",
        "        self.cur_batch += 1\n",
        "        return batch\n",
        "\n",
        "class MNISTNet(MetaModule):\n",
        "    def __init__(self, layer_size=20, n_layers=1, **kwargs):\n",
        "        super().__init__()\n",
        "\n",
        "        inp_size = 28*28\n",
        "        self.layers = {}\n",
        "        for i in range(n_layers):\n",
        "            self.layers[f'mat_{i}'] = MetaLinear(inp_size, layer_size)\n",
        "            inp_size = layer_size\n",
        "\n",
        "        self.layers['final_mat'] = MetaLinear(inp_size, 10)\n",
        "        self.layers = nn.ModuleDict(self.layers)\n",
        "\n",
        "        self.activation = nn.Sigmoid()\n",
        "        self.loss = nn.NLLLoss()\n",
        "\n",
        "    def all_named_parameters(self):\n",
        "        return [(k, v) for k, v in self.named_parameters()]\n",
        "    \n",
        "    def forward(self, loss):\n",
        "        inp, out = loss.sample()\n",
        "        inp = w(Variable(inp.view(inp.size()[0], 28*28)))\n",
        "        out = w(Variable(out))\n",
        "\n",
        "        cur_layer = 0\n",
        "        while f'mat_{cur_layer}' in self.layers:\n",
        "            inp = self.activation(self.layers[f'mat_{cur_layer}'](inp))\n",
        "            cur_layer += 1\n",
        "\n",
        "        inp = F.log_softmax(self.layers['final_mat'](inp), dim=1)\n",
        "        l = self.loss(inp, out)\n",
        "        return l"
      ],
      "execution_count": 91,
      "outputs": []
    },
    {
      "cell_type": "code",
      "metadata": {
        "id": "2FpuRNnTFM-B"
      },
      "source": [
        "loss_LSTM, MNIST_optimizer_LSTM = fit_optimizer(MNISTLoss, MNISTNet, unroll=20, optim_it=100, lr=0.001, out_mul=0.1, preproc=True, n_tests=5, n_epochs=50)"
      ],
      "execution_count": null,
      "outputs": []
    },
    {
      "cell_type": "code",
      "metadata": {
        "id": "5s767l7KFM-C"
      },
      "source": [
        "loss_HNN, MNIST_optimizer_HNN = fit_optimizer_HNN(MNISTLoss, MNISTNet, unroll=1, optim_it=1, lr=0.001, out_mul=0.1, n_tests=5, n_epochs=10)"
      ],
      "execution_count": null,
      "outputs": []
    },
    {
      "cell_type": "code",
      "metadata": {
        "colab": {
          "base_uri": "https://localhost:8080/"
        },
        "id": "MCH72JO-FM-D",
        "outputId": "62575091-0f0b-4207-8429-fb2b4ec15d32"
      },
      "source": [
        "print('Best loss of LSTM = ', loss_LSTM)\n",
        "print('Best loss of HNN = ', loss_HNN)"
      ],
      "execution_count": 22,
      "outputs": [
        {
          "output_type": "stream",
          "text": [
            "Best loss of LSTM =  2.3219166\n",
            "Best loss of HNN =  2.3425555\n"
          ],
          "name": "stdout"
        }
      ]
    },
    {
      "cell_type": "code",
      "metadata": {
        "id": "v7z-GGpLFM-E"
      },
      "source": [
        "fit_data = np.zeros((100, 100, 2))\n",
        "np.random.seed(0)\n",
        "\n",
        "opt = w(Optimizer(preproc=True))\n",
        "opt.load_state_dict(MNIST_optimizer_LSTM)\n",
        "fit_data[:, :, 0] = np.array([do_fit(opt, None, MNISTLoss, MNISTNet, 1, 100, 200, out_mul=0.1, should_train=False) for _ in range(100)])\n",
        "opt = w(Optimizer_HNN())\n",
        "opt.load_state_dict(MNIST_optimizer_HNN)\n",
        "fit_data[:, :, 1] = np.array([do_fit_HNN(opt, None, MNISTLoss, MNISTNet, 1, 100, 200, out_mul=0.001, should_train=False) for _ in range(100)])"
      ],
      "execution_count": 24,
      "outputs": []
    },
    {
      "cell_type": "code",
      "metadata": {
        "id": "TnVuS2jIFM-F"
      },
      "source": [
        "plt.plot(np.mean(fit_data[:,:,0], axis=0), color='b', label='LSTM')\n",
        "plt.plot(np.mean(fit_data[:,:,1], axis=0), color='r', label='HNN')\n",
        "plt.xlabel('steps')\n",
        "plt.ylabel('loss')\n",
        "plt.title('MNIST')\n",
        "plt.legend()\n",
        "plt.grid()\n",
        "plt.show()"
      ],
      "execution_count": null,
      "outputs": []
    }
  ]
}